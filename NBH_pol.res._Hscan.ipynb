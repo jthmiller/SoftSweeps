{
 "cells": [
  {
   "cell_type": "markdown",
   "metadata": {},
   "source": [
    "#### The overlate function can be applied to a VCF to translate genotypes to the data structure neccessary for [Hscan](https://messerlab.org/resources/)\n",
    "Overlate only runs on non-phased data. \n",
    "To run this, make 2 empty folders, and put its path in the 'indir' and 'outdir' objects below"
   ]
  },
  {
   "cell_type": "code",
   "execution_count": null,
   "metadata": {},
   "outputs": [],
   "source": [
    "indir <- \"/home/jmiller1/soft_sweep/vcf/\"\n",
    "system(## do a system call to get a header to put into indir)\n",
    "header <- scan(paste(indir,'vcf.header',sep=''),what='character')\n",
    "outdir <- \"/home/jmiller1/soft_sweep/output\""
   ]
  },
  {
   "cell_type": "code",
   "execution_count": 1,
   "metadata": {},
   "outputs": [],
   "source": [
    "overlate <- function(X,Phased=FALSE){\n",
    "    ref <- X[4]\n",
    "    alt <- X[5]\n",
    "    \n",
    "    if(nchar(ref)>1|nchar(alt)>1){\n",
    "        if(nchar(ref)>nchar(alt)){\n",
    "            ref <- 'I'\n",
    "            alt <- 'D'\n",
    "        } else {\n",
    "            ref <- 'D'\n",
    "            alt <- 'I'\n",
    "        }\n",
    "    }\n",
    "    \n",
    "    if(Phased==TRUE){\n",
    "        trans <- c(paste(ref,ref,sep='/'),\n",
    "            paste(ref,alt,sep='/'),\n",
    "            paste(alt,ref,sep='/'),\n",
    "            paste(alt,alt,sep='/'),\n",
    "            'N/N')\n",
    "    } else {\n",
    "    # Unphased\n",
    "        trans <- c(ref,'.','.',alt,'N')\n",
    "            names(trans) <- c('0/0','0/1','1/0','1/1','.')\n",
    "    }              \n",
    "    return(trans[gsub(\"\\\\:.*\",'',X[10:length(X)])]) \n",
    "    \n",
    "}"
   ]
  },
  {
   "cell_type": "code",
   "execution_count": null,
   "metadata": {},
   "outputs": [],
   "source": [
    "out.Hscan <- function(scaf){\n",
    "\n",
    "    system(paste(\"bgzip -cd /home/nreid/popgen/variants/bowfree/ALL1/hallsnps.vcf.gz | awk \\'$1==\\\"Scaffold\", scaf,\"\\\"{print $0}\\' > in.vcf\",sep=''))    \n",
    "    \n",
    "    NBH <- read.table(paste(indir,'in.vcf',sep=''), stringsAsFactors=FALSE, header=TRUE) \n",
    "    colnames(NBH) <- header\n",
    "        \n",
    "    BI <- data1[,c(1:10,grep('BI',colnames(data1)))]\n",
    "    NBH <- data1[,c(1:10,grep('NBH',colnames(data1)))]\n",
    "\n",
    "    dat.NBH <- t(apply(NBH,1,overlate))\n",
    "    colnames(dat.NBH) <- colnames(NBH[,10:ncol(data1)])\n",
    "    write.table(data.frame(pos=data1$POS, dat),file=paste(outdir,scaf,sep='/'),quote=F,sep=\",\", col.names=FALSE, row.names=FALSE) \n",
    "\n",
    "    dat.BI <- t(apply(BI,1,overlate))\n",
    "    colnames(dat.BI) <- colnames(BI[,10:ncol(BI)])\n",
    "    write.table(data.frame(pos=BI$POS, dat.BI),file=paste(paste(outdir,scaf,sep='/'),'BI',sep=''),quote=F,sep=\",\", col.names=FALSE, row.names=FALSE) \n",
    " \n",
    "}\n",
    "\n"
   ]
  },
  {
   "cell_type": "code",
   "execution_count": null,
   "metadata": {},
   "outputs": [],
   "source": [
    "get.plots <- function(pop,scaffold){\n",
    "    \n",
    "    hstat.NBH <- read.table(file=paste(paste(outdir,scaf,sep='/'),'NBH',sep=''), header=T)\n",
    "    hstat.BI <- read.table(file=paste(paste(outdir,scaf,sep='/'),'BI',sep=''), header=T)\n",
    "\n",
    "    ylim.max <- max(c(hstat.NBH$H,hstat.BI$H))\n",
    "    \n",
    "    if(pop=='NBH'){\n",
    "        plot(hstat.NBH$x,hstat.NBH$H/1000,\n",
    "            pch=20,ylim=c(0,ylim.max))\n",
    "    } else {\n",
    "        plot(hstat.BI$x,hstat.BI$H/1000,\n",
    "            pch=20,ylim=c(0,ylim.max))\n",
    "    }\n",
    "    \n",
    "}"
   ]
  },
  {
   "cell_type": "markdown",
   "metadata": {},
   "source": [
    "Reads in the scaf and headers the dataframe with sample ids"
   ]
  },
  {
   "cell_type": "code",
   "execution_count": null,
   "metadata": {},
   "outputs": [],
   "source": [
    "scaf <- c(0,217)"
   ]
  },
  {
   "cell_type": "code",
   "execution_count": null,
   "metadata": {},
   "outputs": [],
   "source": [
    "sapply(scaf,out.Hscan)"
   ]
  },
  {
   "cell_type": "markdown",
   "metadata": {},
   "source": [
    "get.plots(pop='NBH',scaffold=0)"
   ]
  }
 ],
 "metadata": {
  "kernelspec": {
   "display_name": "R",
   "language": "R",
   "name": "ir"
  },
  "language_info": {
   "codemirror_mode": "r",
   "file_extension": ".r",
   "mimetype": "text/x-r-source",
   "name": "R",
   "pygments_lexer": "r",
   "version": "3.4.4"
  }
 },
 "nbformat": 4,
 "nbformat_minor": 2
}
